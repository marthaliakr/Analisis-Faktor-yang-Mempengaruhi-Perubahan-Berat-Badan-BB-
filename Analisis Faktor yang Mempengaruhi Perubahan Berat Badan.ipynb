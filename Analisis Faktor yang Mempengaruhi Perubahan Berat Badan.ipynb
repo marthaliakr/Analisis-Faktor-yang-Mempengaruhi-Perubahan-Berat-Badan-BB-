Dataset : https://www.kaggle.com/datasets/abdullah0a/comprehensive-weight-change-prediction
